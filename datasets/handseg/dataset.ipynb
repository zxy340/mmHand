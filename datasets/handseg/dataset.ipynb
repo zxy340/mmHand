{
 "nbformat": 4,
 "nbformat_minor": 0,
 "metadata": {
  "colab": {
   "name": "Untitled0.ipynb",
   "provenance": [],
   "collapsed_sections": [],
   "authorship_tag": "ABX9TyN3EUxCF19JNXbsPOawri7A",
   "include_colab_link": true
  },
  "kernelspec": {
   "name": "python3",
   "language": "python",
   "display_name": "Python 3 (ipykernel)"
  }
 },
 "cells": [
  {
   "cell_type": "markdown",
   "metadata": {
    "id": "view-in-github",
    "colab_type": "text"
   },
   "source": [
    "<a href=\"https://colab.research.google.com/github/LadaOndris/IBT/blob/master/datasets/handseg150k/dataset.ipynb\" target=\"_parent\"><img src=\"https://colab.research.google.com/assets/colab-badge.svg\" alt=\"Open In Colab\"/></a>"
   ]
  },
  {
   "cell_type": "code",
   "metadata": {
    "id": "RrppDfO68a9g",
    "colab_type": "code",
    "colab": {}
   },
   "source": [
    "import glob\n",
    "import os\n",
    "import numpy as np\n",
    "from PIL import Image\n",
    "from matplotlib import pyplot as plt"
   ],
   "execution_count": 1,
   "outputs": []
  },
  {
   "cell_type": "code",
   "metadata": {
    "id": "B56wLTQg64uX",
    "colab_type": "code",
    "colab": {
     "base_uri": "https://localhost:8080/",
     "height": 35
    },
    "outputId": "640edc9e-4ec1-4e44-87bd-54b4f8cce749"
   },
   "source": [
    "from google.colab import drive\n",
    "drive.mount('/content/drive')\n"
   ],
   "execution_count": 2,
   "outputs": [
    {
     "ename": "ModuleNotFoundError",
     "evalue": "No module named 'google.colab'",
     "output_type": "error",
     "traceback": [
      "\u001B[1;31m---------------------------------------------------------------------------\u001B[0m",
      "\u001B[1;31mModuleNotFoundError\u001B[0m                       Traceback (most recent call last)",
      "\u001B[1;32m~\\AppData\\Local\\Temp\\ipykernel_16800\\657396789.py\u001B[0m in \u001B[0;36m<module>\u001B[1;34m\u001B[0m\n\u001B[1;32m----> 1\u001B[1;33m \u001B[1;32mfrom\u001B[0m \u001B[0mgoogle\u001B[0m\u001B[1;33m.\u001B[0m\u001B[0mcolab\u001B[0m \u001B[1;32mimport\u001B[0m \u001B[0mdrive\u001B[0m\u001B[1;33m\u001B[0m\u001B[1;33m\u001B[0m\u001B[0m\n\u001B[0m\u001B[0;32m      2\u001B[0m \u001B[0mdrive\u001B[0m\u001B[1;33m.\u001B[0m\u001B[0mmount\u001B[0m\u001B[1;33m(\u001B[0m\u001B[1;34m'/content/drive'\u001B[0m\u001B[1;33m)\u001B[0m\u001B[1;33m\u001B[0m\u001B[1;33m\u001B[0m\u001B[0m\n\u001B[0;32m      3\u001B[0m \u001B[1;33m\u001B[0m\u001B[0m\n\u001B[0;32m      4\u001B[0m \u001B[1;33m\u001B[0m\u001B[0m\n",
      "\u001B[1;31mModuleNotFoundError\u001B[0m: No module named 'google.colab'"
     ]
    }
   ]
  },
  {
   "cell_type": "code",
   "metadata": {
    "id": "SrMlqtJb7iwE",
    "colab_type": "code",
    "colab": {}
   },
   "source": [
    "def load_images(start_index = 0, end_index = 99):\n",
    "  all_images_paths = glob.glob(\"/content/drive/My Drive/handseg150k/images/*\")\n",
    "  \n",
    "  if (start_index != None and end_index != None):\n",
    "    images_paths = all_images_paths[start_index:end_index]\n",
    "  elif (start_index == None and end_index != None):\n",
    "    images_paths = all_images_paths[:end_index]\n",
    "  elif (start_index != None and end_index == None):\n",
    "    images_paths = all_images_paths[start_index:]\n",
    "  else:\n",
    "    images_paths = all_images_paths\n",
    "\n",
    "  images = [np.array(Image.open(filename)) for filename in images_paths]\n",
    "  for image in images:\n",
    "    image[image == 0] = HUGE_INT\n",
    "          \n",
    "  print(\"Loaded images:\", np.array(images).shape)\n",
    "  return images\n"
   ],
   "execution_count": null,
   "outputs": []
  },
  {
   "cell_type": "markdown",
   "metadata": {
    "id": "SswPjfPMwDeN",
    "colab_type": "text"
   },
   "source": [
    "Compute features for given images:\n"
   ]
  },
  {
   "cell_type": "code",
   "metadata": {
    "id": "l12F6TO_wF-A",
    "colab_type": "code",
    "colab": {}
   },
   "source": [
    "HUGE_INT = 2147483647\n",
    "\n",
    "class RdfFeatures:\n",
    "\n",
    "    def __init__(self):\n",
    "        self.image_shape = (480, 640)\n",
    "        self.offsets = None\n",
    "        self.pixels = None\n",
    "        return\n",
    "\n",
    "    def get_random_pixels(self, count, image_shape):\n",
    "        return [[i, j] for i in range(0, 480, 12) for j in range(0, 640, 12)]\n",
    "\n",
    "    def get_offset(self, count, image_shape):\n",
    "        half_width = image_shape[0] / 2.0\n",
    "        half_height = image_shape[1] / 2.0\n",
    "        x = np.random.randint(-half_width, half_width, count, dtype=np.int32) \n",
    "        y = np.random.randint(-half_height, half_height, count, dtype=np.int32) \n",
    "        return np.column_stack((x, y))\n",
    "    \n",
    "    def get_offsets(self, count, image_shape):\n",
    "        u = self.get_offset(count, image_shape)\n",
    "        v = self.get_offset(count, image_shape)\n",
    "        return np.dstack((u, v))\n",
    "    \n",
    "    def get_depth(self, image, coord):\n",
    "        if (coord[0] >= 0 and coord[1] >= 0 and\n",
    "            coord[0] < image.shape[0] and\n",
    "            coord[1] < image.shape[1]):\n",
    "            return image[coord[0], coord[1]]\n",
    "        return HUGE_INT\n",
    "    \n",
    "    def get_depth_m(self, image, coords):\n",
    "        depths = np.full(shape=(len(coords)), fill_value=HUGE_INT, dtype=int)\n",
    "        mask = (coords[:,0] < image.shape[0]) & (coords[:,1] < image.shape[1]) & \\\n",
    "            (coords[:,0] >= 0) & (coords[:,1] >= 0)\n",
    "        valid = coords[mask]\n",
    "        depths[mask] = image[valid[:, 0], valid[:, 1]]\n",
    "        return depths\n",
    "    \n",
    "    def calculate_feature(self, image, pixel, u, v):\n",
    "        pixelDepth = image[pixel[0], pixel[1]]#get_depth(image, pixel)\n",
    "        u = np.divide(u * 10000, pixelDepth).astype(int)\n",
    "        v = np.divide(v * 10000, pixelDepth).astype(int)\n",
    "        p1 = np.add(pixel, u)\n",
    "        p2 = np.add(pixel, v)\n",
    "        return self.get_depth(image, p1) - self.get_depth(image, p2)\n",
    "    \n",
    "    def get_features_for_pixel(self, image, pixel, offsets):\n",
    "        features = np.array([])\n",
    "        for u, v in offsets:\n",
    "            feature = self.calculate_feature(image, pixel, u, v)\n",
    "            features = np.insert(features, len(features), feature)\n",
    "            #if feature != 0 and feature < 2147000000 and feature > -2147000000:\n",
    "            #    print(feature)\n",
    "            \n",
    "        return features\n",
    "    \n",
    "    def get_features_for_pixel_m(self, image, pixel):\n",
    "        u = self.offsets[:,0]\n",
    "        v = self.offsets[:,1]\n",
    "        pixelDepth = image[pixel[0], pixel[1]]\n",
    "        u = np.divide(u * 10000, pixelDepth).astype(int)\n",
    "        v = np.divide(v * 10000, pixelDepth).astype(int)\n",
    "        p1 = np.add(pixel, u)\n",
    "        p2 = np.add(pixel, v)\n",
    "        return np.subtract(self.get_depth_m(image, p1), self.get_depth_m(image, p2))\n",
    "        \n",
    "    \n",
    "    def get_label(self, mask, pixel):\n",
    "        value = mask[pixel[0], pixel[1]]\n",
    "        if value == 0:\n",
    "            return 0\n",
    "        return 1\n",
    "        \n",
    "    \"\"\"\n",
    "    Computes features and labels for the given image.\n",
    "    \"\"\"\n",
    "    def get_samples_for_image(self, image, mask):\n",
    "        features = np.empty(shape=(len(self.pixels), len(self.offsets)), dtype=int)\n",
    "        labels = np.empty(shape=(len(self.pixels)), dtype=int)\n",
    "        for i, pixel in enumerate(self.pixels):\n",
    "            features[i] = self.get_features_for_pixel_m(image, pixel)\n",
    "            labels[i] = self.get_label(mask, pixel)\n",
    "        return features, labels\n",
    "            \n",
    "    \"\"\"\n",
    "    Returns a tuple consisting of features and corresponding labels.\n",
    "    \n",
    "    Attributes:\n",
    "        num_images: number of images to extract the features from\n",
    "        sampled_pixels_count: Number of pixels to be randomly selected and \n",
    "            used to extract features from.\n",
    "            It is not used if pixels parameter is given.\n",
    "        total_features: Number of feature to be extracted for each pixel.\n",
    "            It is not used if offsets parameter is given.\n",
    "        #pixels: List of coordinates, target pixels, to extract the features \n",
    "        #    from.\n",
    "        #offsets: Offsets which are used to calculate features from a pixel. \n",
    "        #    For each feature, there is a tuple of two offsets.\n",
    "    \"\"\"\n",
    "    def get_samples(self,\n",
    "                    image_start_index = 0,\n",
    "                    image_end_index = 99,\n",
    "                    sampled_pixels_count = 2000, \n",
    "                    total_features = 2000):\n",
    "        #images, masks = self.load_images(image_start_index, image_end_index)\n",
    "        images_subset = load_images(image_start_index, image_end_index)\n",
    "\n",
    "        if self.offsets is None:\n",
    "            self.offsets = self.get_offsets(total_features, self.image_shape)\n",
    "        if self.pixels is None:\n",
    "            self.pixels = self.get_random_pixels(sampled_pixels_count, self.image_shape)\n",
    "        \n",
    "        num_images = image_end_index - image_start_index + 1\n",
    "        features = np.ndarray(shape=(num_images * len(self.pixels), len(self.offsets)))\n",
    "        #labels = np.ndarray(shape=(num_images * len(self.pixels)))\n",
    "        \n",
    "        for i, image in enumerate(images_subset):\n",
    "            for p, pixel in enumerate(self.pixels):\n",
    "                #if image[pixel[0], pixel[1]] == HUGE_INT:\n",
    "                #    continue\n",
    "                features[i * len(self.pixels) + p] = self.get_features_for_pixel_m(image, pixel)\n",
    "                #labels[i * len(self.pixels) + p] = self.get_label(mask, pixel)\n",
    "            \n",
    "        #print(sum([l for l in labels if l == 1]))\n",
    "        return features#, labels\n"
   ],
   "execution_count": null,
   "outputs": []
  },
  {
   "cell_type": "code",
   "metadata": {
    "id": "PJsFgNiPw0oC",
    "colab_type": "code",
    "colab": {
     "base_uri": "https://localhost:8080/",
     "height": 35
    },
    "outputId": "eaf105c3-6c18-49e4-d6f6-cb09065609f8"
   },
   "source": [
    "f = RdfFeatures()\n",
    "features = f.get_samples(0, 499)\n"
   ],
   "execution_count": null,
   "outputs": []
  },
  {
   "cell_type": "code",
   "metadata": {
    "id": "-6NuVgAWxMMC",
    "colab_type": "code",
    "colab": {}
   },
   "source": [
    ""
   ],
   "execution_count": null,
   "outputs": []
  }
 ]
}